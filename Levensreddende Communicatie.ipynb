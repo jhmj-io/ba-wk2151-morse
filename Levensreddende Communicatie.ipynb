{
 "cells": [
  {
   "cell_type": "markdown",
   "id": "82fd4dd7",
   "metadata": {},
   "source": [
    "# Levensreddende Communicatie\n",
    "\n",
    "Bitacademy challenge week 51 - morse coderen en decoderen"
   ]
  },
  {
   "cell_type": "code",
   "execution_count": 2,
   "id": "72563eef",
   "metadata": {},
   "outputs": [],
   "source": [
    "from morse import *"
   ]
  },
  {
   "cell_type": "code",
   "execution_count": 4,
   "id": "37638e72",
   "metadata": {},
   "outputs": [
    {
     "name": "stdout",
     "output_type": "stream",
     "text": [
      "\n",
      "message noodoproep input\n",
      "--------------------------------------------------\n",
      "HULP NODIG 50 MAN ZIT VAST OP HET EILAND RED ONS\n",
      "\n",
      "message noodoproep encoded\n",
      "--------------------------------------------------\n",
      ".... ..- .-.. .--./-. --- -.. .. --./..... -----/-- .- -./--.. .. -/...- .- ... -/--- .--./.... . -/. .. .-.. .- -. -../.-. . -../--- -. ...<EOF>\n",
      "\n",
      "message noodoproep decoded\n",
      "--------------------------------------------------\n",
      "HULP NODIG 50 MAN ZIT VAST OP HET EILAND RED ONS<EOF>\n",
      "\n",
      "message is OK\n"
     ]
    }
   ],
   "source": [
    "messageok = messageencodedecode(\"noodoproep\")\n",
    "\n",
    "print(\"\\nmessage is\", (lambda m : \"OK\" if (m) else \"NOT OK\") (messageok) )\n"
   ]
  },
  {
   "cell_type": "code",
   "execution_count": 5,
   "id": "d08b6032",
   "metadata": {},
   "outputs": [
    {
     "name": "stdout",
     "output_type": "stream",
     "text": [
      "\n",
      "message noodoproep-extended input\n",
      "--------------------------------------------------\n",
      "SOS Aan wie ons horen kan. We weten niet wat er is gebeurt, maar we zitten zonder telefoonlijnen en internet. Daarom vallen we terug op morsecode. We zitten met 50 man vast op het eiland. Met de kerstdagen nabij willen we weer terug naar onze families en dus willen we opgehaald worden. Daarnaast moet Zoë haar hondje weer te eten geven en is de vrouw van Rubìn morgen uitgerekend. Stuur snel hulp!\n",
      "\n",
      "message noodoproep-extended encoded\n",
      "--------------------------------------------------\n",
      "... --- .../.- .- -./.-- .. ./--- -. .../.... --- .-. . -./-.- .- -. .-.-.-/.-- ./.-- . - . -./-. .. . -/.-- .- -/. .-./.. .../--. . -... . ..- .-. - --..--/-- .- .- .-./.-- ./--.. .. - - . -./--.. --- -. -.. . .-./- . .-.. . ..-. --- --- -. .-.. .. .--- -. . -./. -./.. -. - . .-. -. . - .-.-.-/-.. .- .- .-. --- --/...- .- .-.. .-.. . -./.-- ./- . .-. ..- --./--- .--./-- --- .-. ... . -.-. --- -.. . .-.-.-/.-- ./--.. .. - - . -./-- . -/..... -----/-- .- -./...- .- ... -/--- .--./.... . -/. .. .-.. .- -. -.. .-.-.-/-- . -/-.. ./-.- . .-. ... - -.. .- --. . -./-. .- -... .. .---/.-- .. .-.. .-.. . -./.-- ./.-- . . .-./- . .-. ..- --./-. .- .- .-./--- -. --.. ./..-. .- -- .. .-.. .. . .../. -./-.. ..- .../.-- .. .-.. .-.. . -./.-- ./--- .--. --. . .... .- .- .-.. -../.-- --- .-. -.. . -. .-.-.-/-.. .- .- .-. -. .- .- ... -/-- --- . -/--.. --- ./.... .- .- .-./.... --- -. -.. .--- ./.-- . . .-./- ./. - . -./--. . ...- . -./. -./.. .../-.. ./...- .-. --- ..- .--/...- .- -./.-. ..- -... .. -./-- --- .-. --. . -./..- .. - --. . .-. . -.- . -. -.. .-.-.-/... - ..- ..- .-./... -. . .-../.... ..- .-.. .--. -.-.-.-<EOF>\n",
      "\n",
      "message noodoproep-extended decoded\n",
      "--------------------------------------------------\n",
      "SOS AAN WIE ONS HOREN KAN. WE WETEN NIET WAT ER IS GEBEURT, MAAR WE ZITTEN ZONDER TELEFOONLIJNEN EN INTERNET. DAAROM VALLEN WE TERUG OP MORSECODE. WE ZITTEN MET 50 MAN VAST OP HET EILAND. MET DE KERSTDAGEN NABIJ WILLEN WE WEER TERUG NAAR ONZE FAMILIES EN DUS WILLEN WE OPGEHAALD WORDEN. DAARNAAST MOET ZOE HAAR HONDJE WEER TE ETEN GEVEN EN IS DE VROUW VAN RUBIN MORGEN UITGEREKEND. STUUR SNEL HULP <EOF>\n",
      "\n",
      "message is OK\n",
      "zie morse-extended.json voor morsecode van buitengewone letters en leestekens!\n"
     ]
    }
   ],
   "source": [
    "messageok = messageencodedecode(\"noodoproep-extended\")\n",
    "\n",
    "print(\"\\nmessage is\", (lambda m : \"OK\" if (m) else \"NOT OK\") (messageok) )\n",
    "\n",
    "print(\"zie morse-extended.json voor morsecode van buitengewone letters en leestekens!\")\n"
   ]
  },
  {
   "cell_type": "code",
   "execution_count": null,
   "id": "30f19e2b",
   "metadata": {},
   "outputs": [],
   "source": []
  }
 ],
 "metadata": {
  "kernelspec": {
   "display_name": "Python 3 (ipykernel)",
   "language": "python",
   "name": "python3"
  },
  "language_info": {
   "codemirror_mode": {
    "name": "ipython",
    "version": 3
   },
   "file_extension": ".py",
   "mimetype": "text/x-python",
   "name": "python",
   "nbconvert_exporter": "python",
   "pygments_lexer": "ipython3",
   "version": "3.10.0"
  }
 },
 "nbformat": 4,
 "nbformat_minor": 5
}
