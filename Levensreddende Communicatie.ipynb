{
 "cells": [
  {
   "cell_type": "markdown",
   "id": "82fd4dd7",
   "metadata": {},
   "source": [
    "# Levensreddende Communicatie\n",
    "\n",
    "Bitacademy challenge week 51 - morse coderen en decoderen\n",
    "\n"
   ]
  },
  {
   "cell_type": "markdown",
   "id": "a57ba309",
   "metadata": {},
   "source": [
    "## Import morse.py - zes functies"
   ]
  },
  {
   "cell_type": "code",
   "execution_count": 18,
   "id": "72563eef",
   "metadata": {},
   "outputs": [
    {
     "name": "stdout",
     "output_type": "stream",
     "text": [
      "inhoud (dir) morse.py\n"
     ]
    },
    {
     "data": {
      "text/plain": [
       "['messageencodedecode',\n",
       " 'morse_codes',\n",
       " 'morse_decode',\n",
       " 'morse_encode',\n",
       " 'morse_extend',\n",
       " 'morse_file']"
      ]
     },
     "execution_count": 18,
     "metadata": {},
     "output_type": "execute_result"
    }
   ],
   "source": [
    "import morse\n",
    "\n",
    "print(\"inhoud (dir) morse.py\")\n",
    "\n",
    "list( filter( (lambda f: False if f[:2]==\"__\" or f in [\"re\",\"json\",\"unicodedata\"] else True ), list(dir(morse) )))\n",
    "\n"
   ]
  },
  {
   "cell_type": "markdown",
   "id": "56810720",
   "metadata": {},
   "source": [
    "Korte beschrijving van de zes functies\n",
    "1. messageencodedecode = hoofdfunctie, encodeert en decodeert een bericht met de naam noodoproep en noodoproep_extended. Functie maakt outputbestanden met geëncodeerde morsecode: _noodoproep(-extended).txt.mc_ en met (terug) gedecodeerde morsecode: _noodoproep(-extended).txt.dc_. Tevens aanmaak van bestand *morse_extended.json* met extra omzettingen voor uitzonderlijke letters en leestekens.\n",
    "2. morse_file = lezen file met morse codes: *morse.json* of *morse-extended.json*.\n",
    "3. morse_codes = omzetter van morse.json naar een dictionary voor encoderen of voor decoderen.\n",
    "4. morse_encode = encoderen van een bericht van meerdere woorden van letters zonder en met uitzonderlijke letters en tekens, tevens aanroep van morse_extend.\n",
    "5. morse_decode = decoderen van een bericht van meerdere woorden in morse code.\n",
    "6. morse_extend = uitbreiden van morse.json met uitzonderlijke letters en tekens. Nieuwe lijst wordt opgeslagen in morse-extended.json."
   ]
  },
  {
   "cell_type": "markdown",
   "id": "8604515c",
   "metadata": {},
   "source": [
    "## Functie: morse_file - inlezen van een morse.json file"
   ]
  },
  {
   "cell_type": "code",
   "execution_count": 19,
   "id": "e6877750",
   "metadata": {},
   "outputs": [
    {
     "data": {
      "text/plain": [
       "[{'latin': 'A', 'morse': '.-', 'unicode': 'LETTER A'},\n",
       " {'latin': 'B', 'morse': '-...', 'unicode': 'LETTER B'},\n",
       " {'latin': 'C', 'morse': '-.-.', 'unicode': 'LETTER C'},\n",
       " {'latin': 'D', 'morse': '-..', 'unicode': 'LETTER D'},\n",
       " {'latin': 'E', 'morse': '.', 'unicode': 'LETTER E'},\n",
       " {'latin': 'F', 'morse': '..-.', 'unicode': 'LETTER F'},\n",
       " {'latin': 'G', 'morse': '--.', 'unicode': 'LETTER G'},\n",
       " {'latin': 'H', 'morse': '....', 'unicode': 'LETTER H'},\n",
       " {'latin': 'I', 'morse': '..', 'unicode': 'LETTER I'},\n",
       " {'latin': 'J', 'morse': '.---', 'unicode': 'LETTER J'},\n",
       " {'latin': 'K', 'morse': '-.-', 'unicode': 'LETTER K'},\n",
       " {'latin': 'L', 'morse': '.-..', 'unicode': 'LETTER L'},\n",
       " {'latin': 'M', 'morse': '--', 'unicode': 'LETTER M'},\n",
       " {'latin': 'N', 'morse': '-.', 'unicode': 'LETTER N'},\n",
       " {'latin': 'O', 'morse': '---', 'unicode': 'LETTER O'},\n",
       " {'latin': 'P', 'morse': '.--.', 'unicode': 'LETTER P'},\n",
       " {'latin': 'Q', 'morse': '--.-', 'unicode': 'LETTER Q'},\n",
       " {'latin': 'R', 'morse': '.-.', 'unicode': 'LETTER R'},\n",
       " {'latin': 'S', 'morse': '...', 'unicode': 'LETTER S'},\n",
       " {'latin': 'T', 'morse': '-', 'unicode': 'LETTER T'},\n",
       " {'latin': 'U', 'morse': '..-', 'unicode': 'LETTER U'},\n",
       " {'latin': 'V', 'morse': '...-', 'unicode': 'LETTER V'},\n",
       " {'latin': 'W', 'morse': '.--', 'unicode': 'LETTER W'},\n",
       " {'latin': 'X', 'morse': '-..-', 'unicode': 'LETTER X'},\n",
       " {'latin': 'Y', 'morse': '-.--', 'unicode': 'LETTER Y'},\n",
       " {'latin': 'Z', 'morse': '--..', 'unicode': 'LETTER Z'},\n",
       " {'latin': '1', 'morse': '.----', 'unicode': 'DIGIT ONE'},\n",
       " {'latin': '2', 'morse': '..---', 'unicode': 'DIGIT TWO'},\n",
       " {'latin': '3', 'morse': '...--', 'unicode': 'DIGIT THREE'},\n",
       " {'latin': '4', 'morse': '....-', 'unicode': 'DIGIT FOUR'},\n",
       " {'latin': '5', 'morse': '.....', 'unicode': 'DIGIT FIVE'},\n",
       " {'latin': '6', 'morse': '-....', 'unicode': 'DIGIT SIX'},\n",
       " {'latin': '7', 'morse': '--...', 'unicode': 'DIGIT SEVEN'},\n",
       " {'latin': '8', 'morse': '---..', 'unicode': 'DIGIT EIGHT'},\n",
       " {'latin': '9', 'morse': '----.', 'unicode': 'DIGIT NINE'},\n",
       " {'latin': '0', 'morse': '-----', 'unicode': 'DIGIT ZERO'},\n",
       " {'latin': ' ', 'morse': '-.-.-.-', 'unicode': 'SPACE'},\n",
       " {'latin': ',', 'morse': '--..--', 'unicode': 'COMMA'},\n",
       " {'latin': '.', 'morse': '.-.-.-', 'unicode': 'FULL STOP'},\n",
       " {'latin': ':', 'morse': '---...', 'unicode': 'COLON'},\n",
       " {'latin': ';', 'morse': '-.-.-.', 'unicode': 'SEMICOLON'},\n",
       " {'latin': '\"', 'morse': '.-..-.', 'unicode': 'QUOTATION MARK'},\n",
       " {'latin': '(', 'morse': '-----.', 'unicode': 'LEFT PARENTHESIS'},\n",
       " {'latin': ')', 'morse': '.-----', 'unicode': 'RIGHT PARENTHESIS'},\n",
       " {'latin': \"'\", 'morse': '-.--.-', 'unicode': 'APOSTROPHE'}]"
      ]
     },
     "execution_count": 19,
     "metadata": {},
     "output_type": "execute_result"
    }
   ],
   "source": [
    "# read file morse.json\n",
    "# list with dictionaries\n",
    "\n",
    "from morse import * # Jupyter heeft deze vorm van import nodig\n",
    "\n",
    "morse = morse_file(\"morse.json\")\n",
    "\n",
    "morse"
   ]
  },
  {
   "cell_type": "markdown",
   "id": "1b28c7b5",
   "metadata": {},
   "source": [
    "## Functie: morse_codes - omzetten morse.json naar praktische dict voor encoderen en decoderen"
   ]
  },
  {
   "cell_type": "code",
   "execution_count": 9,
   "id": "657bad66",
   "metadata": {},
   "outputs": [
    {
     "data": {
      "text/plain": [
       "{'LETTER A': '.-',\n",
       " 'LETTER B': '-...',\n",
       " 'LETTER C': '-.-.',\n",
       " 'LETTER D': '-..',\n",
       " 'LETTER E': '.',\n",
       " 'LETTER F': '..-.',\n",
       " 'LETTER G': '--.',\n",
       " 'LETTER H': '....',\n",
       " 'LETTER I': '..',\n",
       " 'LETTER J': '.---',\n",
       " 'LETTER K': '-.-',\n",
       " 'LETTER L': '.-..',\n",
       " 'LETTER M': '--',\n",
       " 'LETTER N': '-.',\n",
       " 'LETTER O': '---',\n",
       " 'LETTER P': '.--.',\n",
       " 'LETTER Q': '--.-',\n",
       " 'LETTER R': '.-.',\n",
       " 'LETTER S': '...',\n",
       " 'LETTER T': '-',\n",
       " 'LETTER U': '..-',\n",
       " 'LETTER V': '...-',\n",
       " 'LETTER W': '.--',\n",
       " 'LETTER X': '-..-',\n",
       " 'LETTER Y': '-.--',\n",
       " 'LETTER Z': '--..',\n",
       " 'DIGIT ONE': '.----',\n",
       " 'DIGIT TWO': '..---',\n",
       " 'DIGIT THREE': '...--',\n",
       " 'DIGIT FOUR': '....-',\n",
       " 'DIGIT FIVE': '.....',\n",
       " 'DIGIT SIX': '-....',\n",
       " 'DIGIT SEVEN': '--...',\n",
       " 'DIGIT EIGHT': '---..',\n",
       " 'DIGIT NINE': '----.',\n",
       " 'DIGIT ZERO': '-----',\n",
       " 'SPACE': '-.-.-.-',\n",
       " 'COMMA': '--..--',\n",
       " 'FULL STOP': '.-.-.-',\n",
       " 'COLON': '---...',\n",
       " 'SEMICOLON': '-.-.-.',\n",
       " 'QUOTATION MARK': '.-..-.',\n",
       " 'LEFT PARENTHESIS': '-----.',\n",
       " 'RIGHT PARENTHESIS': '.-----',\n",
       " 'APOSTROPHE': '-.--.-'}"
      ]
     },
     "execution_count": 9,
     "metadata": {},
     "output_type": "execute_result"
    }
   ],
   "source": [
    "# map morse.json in object for easy encoding\n",
    "\n",
    "codes = morse_codes(morse, \"encode\")\n",
    "\n",
    "codes"
   ]
  },
  {
   "cell_type": "markdown",
   "id": "fa9c1201",
   "metadata": {},
   "source": [
    "## Functie: morse_encode - lezen bericht.txt en voorbeelden encoderen met _unicodedata_"
   ]
  },
  {
   "cell_type": "code",
   "execution_count": 10,
   "id": "79972615",
   "metadata": {},
   "outputs": [
    {
     "name": "stdout",
     "output_type": "stream",
     "text": [
      "Inhoud van te coderen bericht: HULP NODIG 50 MAN ZIT VAST OP HET EILAND RED ONS\n",
      "\n",
      "Voorbeeld 1\n",
      "eerste letter eerste woord: H\n",
      "unicodedata: ['LATIN', 'CAPITAL', 'LETTER', 'H']\n",
      "morsecode: ....\n",
      "\n",
      "Voorbeel'32db'd 2\n",
      "letter met trema: ë\n",
      "unicodedata: ['LATIN', 'SMALL', 'LETTER', 'E', 'WITH', 'DIAERESIS']\n",
      "morsecode: .\n",
      "\n",
      "Voorbeeld 3\n",
      "leesteken: .\n",
      "unicodedata: FULL STOP\n",
      "morsecode: .-.-.-\n"
     ]
    }
   ],
   "source": [
    "# morseencoded = morse_encode(messagename)\n",
    "\n",
    "# inlezen bestand\n",
    "messagename = \"noodoproep\"\n",
    "f = open( f\"{messagename}.txt\", \"r\")\n",
    "message = f.read()\n",
    "print(\"Inhoud van te coderen bericht:\", message)\n",
    "\n",
    "# for word in words:\n",
    "#       for character in word:\n",
    "\n",
    "print(\"\\nVoorbeeld 1\")\n",
    "words = re.split(' ', message )\n",
    "word = words[0]\n",
    "character = word[0]\n",
    "cu = unicodedata.name(character)\n",
    "cus = re.split(' ', unicodedata.name(character) )\n",
    "print(\"eerste letter eerste woord:\",character)\n",
    "print(\"unicodedata:\",cus)\n",
    "print(\"morsecode:\", codes[ cus[2] + \" \" + cus[3] ] )\n",
    "\n",
    "print(\"\\nVoorbeel'32db'd 2\")\n",
    "character = \"ë\"\n",
    "cu = unicodedata.name(character)\n",
    "cus = re.split(' ', unicodedata.name(character) )\n",
    "print(\"letter met trema:\",character)\n",
    "print(\"unicodedata:\",cus)\n",
    "print(\"morsecode:\", codes[ cus[2] + \" \" + cus[3] ] )\n",
    "\n",
    "print(\"\\nVoorbeeld 3\")\n",
    "character = \".\"\n",
    "cu = unicodedata.name(character)\n",
    "cus = re.split(' ', unicodedata.name(character) )\n",
    "print(\"leesteken:\",character)\n",
    "print(\"unicodedata:\",cu)\n",
    "print(\"morsecode:\", codes[ cu ] )\n",
    "\n"
   ]
  },
  {
   "cell_type": "markdown",
   "id": "670d7602",
   "metadata": {},
   "source": [
    "Opmerking: door gebruik van unicodedata.name is voor kleine letters van het LATIN alfabet of letters met accenten geen uitbreiding van de morse lijst nodig.\n"
   ]
  },
  {
   "cell_type": "markdown",
   "id": "d9d38c10",
   "metadata": {},
   "source": [
    "## Functie: morse_encode - volledige code en verwerking van noodoproep.txt"
   ]
  },
  {
   "cell_type": "code",
   "execution_count": 16,
   "id": "f6e8bfb8",
   "metadata": {},
   "outputs": [],
   "source": [
    "def morse_encode(message):\n",
    "\n",
    "    morse = morse_file(\"morse.json\")\n",
    "\n",
    "    codes = morse_codes(morse, \"encode\")\n",
    "\n",
    "    coded = \"\"\n",
    "    words = re.split(' ', message )\n",
    "\n",
    "    for i, word in enumerate(words):\n",
    "\n",
    "        for j, character in enumerate(word) :\n",
    "            \n",
    "            #print(unicodedata.name(character))\n",
    "\n",
    "            # character unicode\n",
    "            cu = unicodedata.name(character)\n",
    "            cus = re.split(' ', unicodedata.name(character) )\n",
    "\n",
    "            if cus[0]==\"LATIN\" and cus[2] + \" \" + cus[3] in list(codes.keys()):\n",
    "                #print(cu[0], cu[3],  codes[cu[3]])\n",
    "                coded += codes[ cus[2] + \" \" + cus[3] ]\n",
    "\n",
    "            elif unicodedata.name(character) in list(codes.keys()):\n",
    "                 coded += codes[ cu ]\n",
    "\n",
    "            else:\n",
    "\n",
    "                # 'GREEK CAPITAL LETTER OMEGA' - unicodedata.name(\"Ω\")\n",
    "                # 'EXCLAMATION MARK'\n",
    "\n",
    "                morse = morse_extend( morse, cu )\n",
    "                codes = morse_codes(morse, \"encode\")\n",
    "                coded += codes[ cu ]\n",
    "\n",
    "            if j+1 < len(word):\n",
    "                coded += \" \"\n",
    "            elif i+1 < len(words):\n",
    "                coded += \"/\"\n",
    "\n",
    "\n",
    "    return coded"
   ]
  },
  {
   "cell_type": "code",
   "execution_count": 17,
   "id": "a224fe49",
   "metadata": {},
   "outputs": [
    {
     "data": {
      "text/plain": [
       "'.... ..- .-.. .--./-. --- -.. .. --./..... -----/-- .- -./--.. .. -/...- .- ... -/--- .--./.... . -/. .. .-.. .- -. -../.-. . -../--- -. ...'"
      ]
     },
     "execution_count": 17,
     "metadata": {},
     "output_type": "execute_result"
    }
   ],
   "source": [
    "# morse_encode in zijn geheel\n",
    "\n",
    "morseencoded = morse_encode(message)\n",
    "morseencoded"
   ]
  },
  {
   "cell_type": "markdown",
   "id": "444432ec",
   "metadata": {},
   "source": [
    "Toegepaste letterscheider: spatie. Toegepaste woordscheider: /"
   ]
  },
  {
   "cell_type": "markdown",
   "id": "a98a7ad9",
   "metadata": {},
   "source": [
    "## Functie: morse_decode = volledige verwerking van noodoproep.txt.mc tot noodoproep.txt.dc"
   ]
  },
  {
   "cell_type": "code",
   "execution_count": 12,
   "id": "d8dc4fb2",
   "metadata": {},
   "outputs": [
    {
     "data": {
      "text/plain": [
       "'HULP NODIG 50 MAN ZIT VAST OP HET EILAND RED ONS'"
      ]
     },
     "execution_count": 12,
     "metadata": {},
     "output_type": "execute_result"
    }
   ],
   "source": [
    "# morse_decode in zijn geheel\n",
    "\n",
    "f = open( f\"{messagename}.txt.mc\", \"r\")\n",
    "message_to_decode = f.read()\n",
    "\n",
    "morsedecoded = morse_decode(message_to_decode)\n",
    "morsedecoded"
   ]
  },
  {
   "cell_type": "markdown",
   "id": "6d71ad8c",
   "metadata": {},
   "source": [
    "## morse_decode werkt het zelfde als morse_encode maar gebruikt een omzetting van morse.json voor decoderen"
   ]
  },
  {
   "cell_type": "code",
   "execution_count": 13,
   "id": "f702ca61",
   "metadata": {},
   "outputs": [
    {
     "data": {
      "text/plain": [
       "{'.-': 'A',\n",
       " '-...': 'B',\n",
       " '-.-.': 'C',\n",
       " '-..': 'D',\n",
       " '.': 'E',\n",
       " '..-.': 'F',\n",
       " '--.': 'G',\n",
       " '....': 'H',\n",
       " '..': 'I',\n",
       " '.---': 'J',\n",
       " '-.-': 'K',\n",
       " '.-..': 'L',\n",
       " '--': 'M',\n",
       " '-.': 'N',\n",
       " '---': 'O',\n",
       " '.--.': 'P',\n",
       " '--.-': 'Q',\n",
       " '.-.': 'R',\n",
       " '...': 'S',\n",
       " '-': 'T',\n",
       " '..-': 'U',\n",
       " '...-': 'V',\n",
       " '.--': 'W',\n",
       " '-..-': 'X',\n",
       " '-.--': 'Y',\n",
       " '--..': 'Z',\n",
       " '.----': '1',\n",
       " '..---': '2',\n",
       " '...--': '3',\n",
       " '....-': '4',\n",
       " '.....': '5',\n",
       " '-....': '6',\n",
       " '--...': '7',\n",
       " '---..': '8',\n",
       " '----.': '9',\n",
       " '-----': '0',\n",
       " '-.-.-.-': ' ',\n",
       " '--..--': ',',\n",
       " '.-.-.-': '.',\n",
       " '---...': ':',\n",
       " '-.-.-.': ';',\n",
       " '.-..-.': '\"',\n",
       " '-----.': '(',\n",
       " '.-----': ')',\n",
       " '-.--.-': \"'\"}"
      ]
     },
     "execution_count": 13,
     "metadata": {},
     "output_type": "execute_result"
    }
   ],
   "source": [
    "# codes voor decoderen\n",
    "\n",
    "codes_voor_decode = morse_codes(morse, \"decode\")\n",
    "\n",
    "codes_voor_decode"
   ]
  },
  {
   "cell_type": "markdown",
   "id": "5c3f1b96",
   "metadata": {},
   "source": [
    "## Alles op een rijtje 1: encoderen en decoderen van noodoproep.txt"
   ]
  },
  {
   "cell_type": "code",
   "execution_count": 14,
   "id": "37638e72",
   "metadata": {},
   "outputs": [
    {
     "name": "stdout",
     "output_type": "stream",
     "text": [
      "\n",
      "message noodoproep input\n",
      "--------------------------------------------------\n",
      "HULP NODIG 50 MAN ZIT VAST OP HET EILAND RED ONS\n",
      "\n",
      "message noodoproep encoded\n",
      "--------------------------------------------------\n",
      ".... ..- .-.. .--./-. --- -.. .. --./..... -----/-- .- -./--.. .. -/...- .- ... -/--- .--./.... . -/. .. .-.. .- -. -../.-. . -../--- -. ...<EOF>\n",
      "\n",
      "message noodoproep decoded\n",
      "--------------------------------------------------\n",
      "HULP NODIG 50 MAN ZIT VAST OP HET EILAND RED ONS<EOF>\n",
      "\n",
      "message is OK\n"
     ]
    }
   ],
   "source": [
    "# encode en decode opeenvolgend\n",
    "\n",
    "messageok = messageencodedecode(\"noodoproep\")\n",
    "\n",
    "print(\"\\nmessage is\", (lambda m : \"OK\" if (m) else \"NOT OK\") (messageok) )\n"
   ]
  },
  {
   "cell_type": "markdown",
   "id": "f3d9e340",
   "metadata": {},
   "source": [
    "## Alles op een rijtje 2: encoderen en decoderen van noodoproep-extended.txt"
   ]
  },
  {
   "cell_type": "code",
   "execution_count": 15,
   "id": "d08b6032",
   "metadata": {},
   "outputs": [
    {
     "name": "stdout",
     "output_type": "stream",
     "text": [
      "\n",
      "message noodoproep-extended input\n",
      "--------------------------------------------------\n",
      "SOS Aan wie ons horen kan. We weten niet wat er is gebeurt, maar we zitten zonder telefoonlijnen en internet. Daarom vallen we terug op morsecode. We zitten met 50 man vast op het eiland. Met de kerstdagen nabij willen we weer terug naar onze families en dus willen we opgehaald worden. Daarnaast moet Zoë haar hondje weer te eten geven en is de vrouw van Rubìn morgen uitgerekend. Stuur snel hulp!\n",
      "\n",
      "message noodoproep-extended encoded\n",
      "--------------------------------------------------\n",
      "... --- .../.- .- -./.-- .. ./--- -. .../.... --- .-. . -./-.- .- -. .-.-.-/.-- ./.-- . - . -./-. .. . -/.-- .- -/. .-./.. .../--. . -... . ..- .-. - --..--/-- .- .- .-./.-- ./--.. .. - - . -./--.. --- -. -.. . .-./- . .-.. . ..-. --- --- -. .-.. .. .--- -. . -./. -./.. -. - . .-. -. . - .-.-.-/-.. .- .- .-. --- --/...- .- .-.. .-.. . -./.-- ./- . .-. ..- --./--- .--./-- --- .-. ... . -.-. --- -.. . .-.-.-/.-- ./--.. .. - - . -./-- . -/..... -----/-- .- -./...- .- ... -/--- .--./.... . -/. .. .-.. .- -. -.. .-.-.-/-- . -/-.. ./-.- . .-. ... - -.. .- --. . -./-. .- -... .. .---/.-- .. .-.. .-.. . -./.-- ./.-- . . .-./- . .-. ..- --./-. .- .- .-./--- -. --.. ./..-. .- -- .. .-.. .. . .../. -./-.. ..- .../.-- .. .-.. .-.. . -./.-- ./--- .--. --. . .... .- .- .-.. -../.-- --- .-. -.. . -. .-.-.-/-.. .- .- .-. -. .- .- ... -/-- --- . -/--.. --- ./.... .- .- .-./.... --- -. -.. .--- ./.-- . . .-./- ./. - . -./--. . ...- . -./. -./.. .../-.. ./...- .-. --- ..- .--/...- .- -./.-. ..- -... .. -./-- --- .-. --. . -./..- .. - --. . .-. . -.- . -. -.. .-.-.-/... - ..- ..- .-./... -. . .-../.... ..- .-.. .--. -.-.-.-<EOF>\n",
      "\n",
      "message noodoproep-extended decoded\n",
      "--------------------------------------------------\n",
      "SOS AAN WIE ONS HOREN KAN. WE WETEN NIET WAT ER IS GEBEURT, MAAR WE ZITTEN ZONDER TELEFOONLIJNEN EN INTERNET. DAAROM VALLEN WE TERUG OP MORSECODE. WE ZITTEN MET 50 MAN VAST OP HET EILAND. MET DE KERSTDAGEN NABIJ WILLEN WE WEER TERUG NAAR ONZE FAMILIES EN DUS WILLEN WE OPGEHAALD WORDEN. DAARNAAST MOET ZOE HAAR HONDJE WEER TE ETEN GEVEN EN IS DE VROUW VAN RUBIN MORGEN UITGEREKEND. STUUR SNEL HULP <EOF>\n",
      "\n",
      "message is OK\n",
      "zie morse_extended.json voor morsecode van buitengewone letters en leestekens!\n"
     ]
    }
   ],
   "source": [
    "messageok = messageencodedecode(\"noodoproep-extended\")\n",
    "\n",
    "print(\"\\nmessage is\", (lambda m : \"OK\" if (m) else \"NOT OK\") (messageok) )\n",
    "\n",
    "print(\"zie morse_extended.json voor morsecode van buitengewone letters en leestekens!\")\n"
   ]
  },
  {
   "cell_type": "markdown",
   "id": "676fd992",
   "metadata": {},
   "source": [
    "Aan morse_extended.json is een naar een spatie omzettende dictionary voor een uitroepteken toegevoegd:\n",
    "\n",
    "\n",
    "    {\n",
    "        \"latin\": \" \",\n",
    "        \"morse\": \"-.-.-.-\",\n",
    "        \"unicode\": \"EXCLAMATION MARK\"\n",
    "    }\n"
   ]
  },
  {
   "cell_type": "markdown",
   "id": "5ca52586",
   "metadata": {},
   "source": [
    "## Conclusie\n",
    "\n",
    "In morse.py zes functies waarmee de vier challenge vragen worden beantwoord. De oplossing met Python vind ik efficiënt. Vooral door de unicodedata database. Door unicodedata zijn voor alle letters met accenten geen extra codes nodig. Mooi dat unicodedata een basis functie van Python is. Python is wel een \"opgeruimd\" taaltje ㋛ - Unicode: 32db - CIRCLED KATAKANA SI."
   ]
  },
  {
   "cell_type": "markdown",
   "id": "34bde11d",
   "metadata": {},
   "source": [
    "## --- Einde ---"
   ]
  },
  {
   "cell_type": "code",
   "execution_count": null,
   "id": "30f19e2b",
   "metadata": {},
   "outputs": [],
   "source": []
  }
 ],
 "metadata": {
  "kernelspec": {
   "display_name": "Python 3 (ipykernel)",
   "language": "python",
   "name": "python3"
  },
  "language_info": {
   "codemirror_mode": {
    "name": "ipython",
    "version": 3
   },
   "file_extension": ".py",
   "mimetype": "text/x-python",
   "name": "python",
   "nbconvert_exporter": "python",
   "pygments_lexer": "ipython3",
   "version": "3.10.1"
  }
 },
 "nbformat": 4,
 "nbformat_minor": 5
}
